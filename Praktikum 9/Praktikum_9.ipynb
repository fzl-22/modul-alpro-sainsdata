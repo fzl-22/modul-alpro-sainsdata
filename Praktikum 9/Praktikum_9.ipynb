{
 "cells": [
  {
   "cell_type": "code",
   "execution_count": 1,
   "id": "9cbff5f0-0019-40d4-afab-b5e97761034c",
   "metadata": {},
   "outputs": [],
   "source": [
    "import numpy as np"
   ]
  },
  {
   "cell_type": "code",
   "execution_count": 13,
   "id": "85c0817a-0a40-4fd6-8142-75948e865977",
   "metadata": {},
   "outputs": [
    {
     "data": {
      "text/plain": [
       "[1, 2, 3, 4]"
      ]
     },
     "execution_count": 13,
     "metadata": {},
     "output_type": "execute_result"
    }
   ],
   "source": [
    "arr1D = [1, 2, 3, 4]\n",
    "arr1D"
   ]
  },
  {
   "cell_type": "code",
   "execution_count": 14,
   "id": "950a5daa-bc09-45e9-85d8-d9d118fa8a78",
   "metadata": {},
   "outputs": [
    {
     "data": {
      "text/plain": [
       "[[1, 2, 3], [4, 5, 6], [7, 8, 9]]"
      ]
     },
     "execution_count": 14,
     "metadata": {},
     "output_type": "execute_result"
    }
   ],
   "source": [
    "arr2D = [[1, 2, 3],[4, 5, 6],[7, 8, 9]]\n",
    "arr2D"
   ]
  },
  {
   "cell_type": "code",
   "execution_count": 15,
   "id": "4a04b533-9edb-4770-afa7-4ddcdfbe349f",
   "metadata": {},
   "outputs": [
    {
     "name": "stdout",
     "output_type": "stream",
     "text": [
      "[0 1 2 3 4 5 6 7 8 9]\n",
      "[2 3 4 5 6 7 8]\n",
      "[ 2  5  8 11]\n",
      "[1. 3. 5. 7. 9.]\n"
     ]
    }
   ],
   "source": [
    "arrArange1 = np.arange(10)\n",
    "arrArange2 = np.arange(2, 9)\n",
    "arrArange3 = np.arange(2, 12, 3)\n",
    "arrArange4 = np.arange(1, 10, 2, float)\n",
    "\n",
    "print(arrArange1)\n",
    "print(arrArange2)\n",
    "print(arrArange3)\n",
    "print(arrArange4)"
   ]
  },
  {
   "cell_type": "code",
   "execution_count": 20,
   "id": "e647de68-1cf4-47dc-918d-459b9c3d8633",
   "metadata": {},
   "outputs": [
    {
     "name": "stdout",
     "output_type": "stream",
     "text": [
      "[2.         2.01010101 2.02020202 2.03030303 2.04040404 2.05050505\n",
      " 2.06060606 2.07070707 2.08080808 2.09090909 2.1010101  2.11111111\n",
      " 2.12121212 2.13131313 2.14141414 2.15151515 2.16161616 2.17171717\n",
      " 2.18181818 2.19191919 2.2020202  2.21212121 2.22222222 2.23232323\n",
      " 2.24242424 2.25252525 2.26262626 2.27272727 2.28282828 2.29292929\n",
      " 2.3030303  2.31313131 2.32323232 2.33333333 2.34343434 2.35353535\n",
      " 2.36363636 2.37373737 2.38383838 2.39393939 2.4040404  2.41414141\n",
      " 2.42424242 2.43434343 2.44444444 2.45454545 2.46464646 2.47474747\n",
      " 2.48484848 2.49494949 2.50505051 2.51515152 2.52525253 2.53535354\n",
      " 2.54545455 2.55555556 2.56565657 2.57575758 2.58585859 2.5959596\n",
      " 2.60606061 2.61616162 2.62626263 2.63636364 2.64646465 2.65656566\n",
      " 2.66666667 2.67676768 2.68686869 2.6969697  2.70707071 2.71717172\n",
      " 2.72727273 2.73737374 2.74747475 2.75757576 2.76767677 2.77777778\n",
      " 2.78787879 2.7979798  2.80808081 2.81818182 2.82828283 2.83838384\n",
      " 2.84848485 2.85858586 2.86868687 2.87878788 2.88888889 2.8989899\n",
      " 2.90909091 2.91919192 2.92929293 2.93939394 2.94949495 2.95959596\n",
      " 2.96969697 2.97979798 2.98989899 3.        ]\n",
      "\n",
      "[2.         2.11111111 2.22222222 2.33333333 2.44444444 2.55555556\n",
      " 2.66666667 2.77777778 2.88888889 3.        ]\n",
      "\n",
      "[2 2 2 2 2 2 2 2 2 3]\n",
      "\n",
      "(array([2.        , 2.11111111, 2.22222222, 2.33333333, 2.44444444,\n",
      "       2.55555556, 2.66666667, 2.77777778, 2.88888889, 3.        ]), 0.1111111111111111)\n"
     ]
    }
   ],
   "source": [
    "arrLins1 = np.linspace(2, 3, 100)\n",
    "arrLins2 = np.linspace(2, 3, 10)\n",
    "arrLins3 = np.linspace(2, 3, 10, dtype=int)\n",
    "arrLins4 = np.linspace(2, 3, 10, retstep=True)\n",
    "\n",
    "print(arrLins1) # akan ada sebanyak 50 data berjarak sama dari 2 sampai 3\n",
    "print()\n",
    "print(arrLins2) # Output: [2.   2.25 2.5  2.75 3.  ]\n",
    "print()\n",
    "print(arrLins3) # Output: [2 2 2 2 3]\n",
    "print()\n",
    "print(arrLins4) # Output: (array([2.  , 2.25, 2.5 , 2.75, 3.  ]), 0.25)"
   ]
  },
  {
   "cell_type": "code",
   "execution_count": null,
   "id": "441d43a9-7c47-44af-aae6-8ff1f0067dcd",
   "metadata": {},
   "outputs": [],
   "source": []
  },
  {
   "cell_type": "code",
   "execution_count": 24,
   "id": "eae564bd-e278-4a5d-b40e-473f4be263e5",
   "metadata": {},
   "outputs": [
    {
     "name": "stdout",
     "output_type": "stream",
     "text": [
      "[0. 0. 0. 0. 0.]\n",
      "\n",
      "[1 1 1 1 1]\n",
      "\n",
      "[[0. 0. 0. 0.]\n",
      " [0. 0. 0. 0.]\n",
      " [0. 0. 0. 0.]]\n",
      "\n",
      "[[[1 1 1 1 1]\n",
      "  [1 1 1 1 1]\n",
      "  [1 1 1 1 1]\n",
      "  [1 1 1 1 1]]\n",
      "\n",
      " [[1 1 1 1 1]\n",
      "  [1 1 1 1 1]\n",
      "  [1 1 1 1 1]\n",
      "  [1 1 1 1 1]]\n",
      "\n",
      " [[1 1 1 1 1]\n",
      "  [1 1 1 1 1]\n",
      "  [1 1 1 1 1]\n",
      "  [1 1 1 1 1]]]\n"
     ]
    }
   ],
   "source": [
    "arrZero1 = np.zeros(5)\n",
    "arrZero2 = np.ones(5, dtype=int)\n",
    "arrZero3 = np.zeros((3, 4))\n",
    "arrZero4 = np.ones((3, 4, 5), dtype=int)\n",
    "\n",
    "print(arrZero1) # Output: [0. 0. 0. 0. 0.]\n",
    "print()\n",
    "print(arrZero2) # Output: [0 0 0 0 0]\n",
    "print()\n",
    "print(arrZero3)\n",
    "print()\n",
    "print(arrZero4)"
   ]
  },
  {
   "cell_type": "code",
   "execution_count": 30,
   "id": "7f998aa9-299b-4970-9dec-c9ed81d08e43",
   "metadata": {},
   "outputs": [
    {
     "name": "stdout",
     "output_type": "stream",
     "text": [
      "[4607182418800017408 4607182418800017408 4607182418800017408\n",
      " 4607182418800017408 4607182418800017408]\n",
      "[[0. 0. 0. 0.]\n",
      " [0. 0. 0. 0.]\n",
      " [0. 0. 0. 0.]]\n",
      "12\n"
     ]
    }
   ],
   "source": [
    "arrEmpty1 = np.empty(5, int)\n",
    "arrEmpty2 = np.empty((3, 4))\n",
    "\n",
    "print(arrEmpty1) # Apakah arraynya memiliki isi?\n",
    "print(arrEmpty2) # Apakah arraynya memiliki isi?\n",
    "\n",
    "print(arrEmpty2.size)"
   ]
  },
  {
   "cell_type": "code",
   "execution_count": null,
   "id": "aec37531-ffa5-4dff-a17d-932a84887333",
   "metadata": {},
   "outputs": [],
   "source": []
  },
  {
   "cell_type": "code",
   "execution_count": null,
   "id": "e6bf5fa1-7a4e-43af-898f-594804687252",
   "metadata": {},
   "outputs": [],
   "source": []
  },
  {
   "cell_type": "code",
   "execution_count": 10,
   "id": "2ff538eb-9f9d-4d6f-89ff-00680acc7ae6",
   "metadata": {},
   "outputs": [],
   "source": [
    "massive_array = np.random.random(100000)"
   ]
  },
  {
   "cell_type": "code",
   "execution_count": 11,
   "id": "e50672d8-96d8-4bef-bbec-3f91d584060f",
   "metadata": {},
   "outputs": [
    {
     "name": "stdout",
     "output_type": "stream",
     "text": [
      "4.68 ms ± 98.5 µs per loop (mean ± std. dev. of 7 runs, 100 loops each)\n",
      "23.6 µs ± 791 ns per loop (mean ± std. dev. of 7 runs, 10,000 loops each)\n"
     ]
    }
   ],
   "source": [
    "%timeit sum(massive_array)\n",
    "%timeit np.sum(massive_array)"
   ]
  },
  {
   "cell_type": "code",
   "execution_count": null,
   "id": "50362e1a-7a60-4ba9-8214-b8dedf5c688e",
   "metadata": {},
   "outputs": [],
   "source": []
  }
 ],
 "metadata": {
  "kernelspec": {
   "display_name": "Python 3 (ipykernel)",
   "language": "python",
   "name": "python3"
  },
  "language_info": {
   "codemirror_mode": {
    "name": "ipython",
    "version": 3
   },
   "file_extension": ".py",
   "mimetype": "text/x-python",
   "name": "python",
   "nbconvert_exporter": "python",
   "pygments_lexer": "ipython3",
   "version": "3.10.8"
  }
 },
 "nbformat": 4,
 "nbformat_minor": 5
}
